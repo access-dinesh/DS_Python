{
  "nbformat": 4,
  "nbformat_minor": 0,
  "metadata": {
    "colab": {
      "provenance": [],
      "authorship_tag": "ABX9TyMSZW9rpTzLA/VednGJlI7J",
      "include_colab_link": true
    },
    "kernelspec": {
      "name": "python3",
      "display_name": "Python 3"
    },
    "language_info": {
      "name": "python"
    }
  },
  "cells": [
    {
      "cell_type": "markdown",
      "metadata": {
        "id": "view-in-github",
        "colab_type": "text"
      },
      "source": [
        "<a href=\"https://colab.research.google.com/github/access-dinesh/DS_Python/blob/main/RegEx.ipynb\" target=\"_parent\"><img src=\"https://colab.research.google.com/assets/colab-badge.svg\" alt=\"Open In Colab\"/></a>"
      ]
    },
    {
      "cell_type": "code",
      "execution_count": 1,
      "metadata": {
        "id": "pahBsM1lRuGv"
      },
      "outputs": [],
      "source": [
        "import re"
      ]
    },
    {
      "cell_type": "code",
      "source": [
        "pattern = re.compile(\"(?:[A-Z][a-z]?\\.)+\") # e.g. Ph.D. and U.S.A."
      ],
      "metadata": {
        "id": "tv15rfLiR6P8"
      },
      "execution_count": 27,
      "outputs": []
    },
    {
      "cell_type": "code",
      "source": [
        "print(pattern.search(\"Ph.D.\"))"
      ],
      "metadata": {
        "colab": {
          "base_uri": "https://localhost:8080/"
        },
        "id": "1qIV_jOMSFaQ",
        "outputId": "fd3156f5-ddc8-4b39-b01e-2a464e0c5a23"
      },
      "execution_count": 11,
      "outputs": [
        {
          "output_type": "stream",
          "name": "stdout",
          "text": [
            "<re.Match object; span=(0, 5), match='Ph.D.'>\n"
          ]
        }
      ]
    },
    {
      "cell_type": "code",
      "source": [
        "print(pattern.search(\"U.S.A.\"))"
      ],
      "metadata": {
        "colab": {
          "base_uri": "https://localhost:8080/"
        },
        "id": "-qudi8BRTCh2",
        "outputId": "d0a848b8-9adb-44db-c5e5-6edb20c37f93"
      },
      "execution_count": 12,
      "outputs": [
        {
          "output_type": "stream",
          "name": "stdout",
          "text": [
            "<re.Match object; span=(0, 6), match='U.S.A.'>\n"
          ]
        }
      ]
    },
    {
      "cell_type": "code",
      "source": [
        "print(pattern.search(\"Ph.\"))"
      ],
      "metadata": {
        "colab": {
          "base_uri": "https://localhost:8080/"
        },
        "id": "o44jPAyxTKf_",
        "outputId": "2a6cca49-423a-47fe-b677-998b738b5d5f"
      },
      "execution_count": 13,
      "outputs": [
        {
          "output_type": "stream",
          "name": "stdout",
          "text": [
            "<re.Match object; span=(0, 3), match='Ph.'>\n"
          ]
        }
      ]
    },
    {
      "cell_type": "code",
      "source": [
        "print(pattern.search(\"Ph\"))"
      ],
      "metadata": {
        "colab": {
          "base_uri": "https://localhost:8080/"
        },
        "id": "Um8IpC_kTPEA",
        "outputId": "9695b3bc-9f15-4a71-84ca-3d865c5ff0ad"
      },
      "execution_count": 15,
      "outputs": [
        {
          "output_type": "stream",
          "name": "stdout",
          "text": [
            "None\n"
          ]
        }
      ]
    },
    {
      "cell_type": "code",
      "source": [
        "patterns = re.compile(\"(^[-$][$]?\\d*(?:\\.\\d{0,2})?$)|(^\\d+(?:\\.\\d+)?%)\") # e.g. $12.40, 82%\n",
        "#patterns = re.compile(\"\\$?\\d+(?:\\.\\d+)?%?\")"
      ],
      "metadata": {
        "id": "XTCaEuwOVuMP"
      },
      "execution_count": 95,
      "outputs": []
    },
    {
      "cell_type": "code",
      "source": [
        "print(patterns.search(\"$12.40\"))"
      ],
      "metadata": {
        "colab": {
          "base_uri": "https://localhost:8080/"
        },
        "id": "XquTVBfGTywD",
        "outputId": "e9966d58-56d5-4eb9-c9e6-689b9f1ed6f1"
      },
      "execution_count": 90,
      "outputs": [
        {
          "output_type": "stream",
          "name": "stdout",
          "text": [
            "<re.Match object; span=(0, 6), match='$12.40'>\n"
          ]
        }
      ]
    },
    {
      "cell_type": "code",
      "source": [
        "print(patterns.search(\"-$12.40\"))"
      ],
      "metadata": {
        "colab": {
          "base_uri": "https://localhost:8080/"
        },
        "id": "G37NMnqGUqiy",
        "outputId": "9b198cf4-c442-4477-a05e-7cec2603dacb"
      },
      "execution_count": 96,
      "outputs": [
        {
          "output_type": "stream",
          "name": "stdout",
          "text": [
            "<re.Match object; span=(0, 7), match='-$12.40'>\n"
          ]
        }
      ]
    },
    {
      "cell_type": "code",
      "source": [
        "print(patterns.search(\"82%\"))"
      ],
      "metadata": {
        "colab": {
          "base_uri": "https://localhost:8080/"
        },
        "id": "3HKDFAAbT6oM",
        "outputId": "65e6f51d-66ec-44f1-e882-5b48791288ea"
      },
      "execution_count": 97,
      "outputs": [
        {
          "output_type": "stream",
          "name": "stdout",
          "text": [
            "<re.Match object; span=(0, 3), match='82%'>\n"
          ]
        }
      ]
    },
    {
      "cell_type": "code",
      "source": [
        "print(patterns.search(\"82\"))"
      ],
      "metadata": {
        "colab": {
          "base_uri": "https://localhost:8080/"
        },
        "id": "hVzfBPKAT-_n",
        "outputId": "4dfdfb40-3c95-43a9-ba2f-18ca34fe44f0"
      },
      "execution_count": 98,
      "outputs": [
        {
          "output_type": "stream",
          "name": "stdout",
          "text": [
            "None\n"
          ]
        }
      ]
    },
    {
      "cell_type": "code",
      "source": [
        "print(patterns.search(\"82.82\"))"
      ],
      "metadata": {
        "colab": {
          "base_uri": "https://localhost:8080/"
        },
        "id": "0-Tj4_fqUBI6",
        "outputId": "79751e08-de58-4604-c426-c80ca03c469a"
      },
      "execution_count": 99,
      "outputs": [
        {
          "output_type": "stream",
          "name": "stdout",
          "text": [
            "None\n"
          ]
        }
      ]
    },
    {
      "cell_type": "code",
      "source": [
        "print(patterns.search(\"82.2\"))"
      ],
      "metadata": {
        "colab": {
          "base_uri": "https://localhost:8080/"
        },
        "id": "HjxBd-pHaZeo",
        "outputId": "cb4897cf-44e9-4a98-9f3a-6a70a7db7d5e"
      },
      "execution_count": 100,
      "outputs": [
        {
          "output_type": "stream",
          "name": "stdout",
          "text": [
            "None\n"
          ]
        }
      ]
    },
    {
      "cell_type": "code",
      "source": [
        "print(patterns.search(\".2\"))"
      ],
      "metadata": {
        "colab": {
          "base_uri": "https://localhost:8080/"
        },
        "id": "uoKCqw76ad-y",
        "outputId": "50895266-414a-4043-9a34-255105fa5f23"
      },
      "execution_count": 102,
      "outputs": [
        {
          "output_type": "stream",
          "name": "stdout",
          "text": [
            "None\n"
          ]
        }
      ]
    }
  ]
}