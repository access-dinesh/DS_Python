{
  "cells": [
    {
      "cell_type": "markdown",
      "metadata": {
        "id": "view-in-github",
        "colab_type": "text"
      },
      "source": [
        "<a href=\"https://colab.research.google.com/github/access-dinesh/DS_Python/blob/main/RegEx.ipynb\" target=\"_parent\"><img src=\"https://colab.research.google.com/assets/colab-badge.svg\" alt=\"Open In Colab\"/></a>"
      ]
    },
    {
      "cell_type": "code",
      "execution_count": 2,
      "metadata": {
        "id": "pahBsM1lRuGv"
      },
      "outputs": [],
      "source": [
        "import re"
      ]
    },
    {
      "cell_type": "code",
      "execution_count": null,
      "metadata": {
        "id": "tv15rfLiR6P8"
      },
      "outputs": [],
      "source": [
        "pattern = re.compile(\"(?:[A-Z][a-z]?\\.)+\") # e.g. Ph.D. and U.S.A."
      ]
    },
    {
      "cell_type": "code",
      "execution_count": null,
      "metadata": {
        "colab": {
          "base_uri": "https://localhost:8080/"
        },
        "id": "1qIV_jOMSFaQ",
        "outputId": "fd3156f5-ddc8-4b39-b01e-2a464e0c5a23"
      },
      "outputs": [
        {
          "name": "stdout",
          "output_type": "stream",
          "text": [
            "<re.Match object; span=(0, 5), match='Ph.D.'>\n"
          ]
        }
      ],
      "source": [
        "print(pattern.search(\"Ph.D.\"))"
      ]
    },
    {
      "cell_type": "code",
      "execution_count": null,
      "metadata": {
        "colab": {
          "background_save": true,
          "base_uri": "https://localhost:8080/"
        },
        "id": "-qudi8BRTCh2",
        "outputId": "48d5c4c6-f213-44fd-c712-2bf37e3619c4"
      },
      "outputs": [
        {
          "name": "stdout",
          "output_type": "stream",
          "text": [
            "<re.Match object; span=(0, 6), match='U.S.A.'>\n"
          ]
        }
      ],
      "source": [
        "print(pattern.search(\"U.S.A.\"))"
      ]
    },
    {
      "cell_type": "code",
      "execution_count": null,
      "metadata": {
        "colab": {
          "base_uri": "https://localhost:8080/"
        },
        "id": "o44jPAyxTKf_",
        "outputId": "2a6cca49-423a-47fe-b677-998b738b5d5f"
      },
      "outputs": [
        {
          "name": "stdout",
          "output_type": "stream",
          "text": [
            "<re.Match object; span=(0, 3), match='Ph.'>\n"
          ]
        }
      ],
      "source": [
        "print(pattern.search(\"Ph.\"))"
      ]
    },
    {
      "cell_type": "code",
      "execution_count": null,
      "metadata": {
        "colab": {
          "base_uri": "https://localhost:8080/"
        },
        "id": "Um8IpC_kTPEA",
        "outputId": "9695b3bc-9f15-4a71-84ca-3d865c5ff0ad"
      },
      "outputs": [
        {
          "name": "stdout",
          "output_type": "stream",
          "text": [
            "None\n"
          ]
        }
      ],
      "source": [
        "print(pattern.search(\"Ph\"))"
      ]
    },
    {
      "cell_type": "code",
      "execution_count": 3,
      "metadata": {
        "id": "XTCaEuwOVuMP"
      },
      "outputs": [],
      "source": [
        "patterns = re.compile(\"^(http:\\/\\/www\\.|https:\\/\\/www\\.|http:\\/\\/|https:\\/\\/)?[a-z0-9]+([\\-\\.]{1}[a-z0-9]+)*\\.[a-z]{2,5}(:[0-9]{1,5})?(\\/.*)?\") # e.g. $12.40, 82%\n",
        "#patterns = re.compile(\"\\$?\\d+(?:\\.\\d+)?%?\")"
      ]
    },
    {
      "cell_type": "code",
      "execution_count": null,
      "metadata": {
        "colab": {
          "base_uri": "https://localhost:8080/"
        },
        "id": "XquTVBfGTywD",
        "outputId": "e9966d58-56d5-4eb9-c9e6-689b9f1ed6f1"
      },
      "outputs": [
        {
          "name": "stdout",
          "output_type": "stream",
          "text": [
            "<re.Match object; span=(0, 6), match='$12.40'>\n"
          ]
        }
      ],
      "source": [
        "print(patterns.search(\"$12.40\"))"
      ]
    },
    {
      "cell_type": "code",
      "execution_count": null,
      "metadata": {
        "colab": {
          "base_uri": "https://localhost:8080/"
        },
        "id": "G37NMnqGUqiy",
        "outputId": "9b198cf4-c442-4477-a05e-7cec2603dacb"
      },
      "outputs": [
        {
          "name": "stdout",
          "output_type": "stream",
          "text": [
            "<re.Match object; span=(0, 7), match='-$12.40'>\n"
          ]
        }
      ],
      "source": [
        "print(patterns.search(\"-$12.40\"))"
      ]
    },
    {
      "cell_type": "code",
      "execution_count": null,
      "metadata": {
        "colab": {
          "base_uri": "https://localhost:8080/"
        },
        "id": "3HKDFAAbT6oM",
        "outputId": "65e6f51d-66ec-44f1-e882-5b48791288ea"
      },
      "outputs": [
        {
          "name": "stdout",
          "output_type": "stream",
          "text": [
            "<re.Match object; span=(0, 3), match='82%'>\n"
          ]
        }
      ],
      "source": [
        "print(patterns.search(\"82%\"))"
      ]
    },
    {
      "cell_type": "code",
      "execution_count": null,
      "metadata": {
        "colab": {
          "base_uri": "https://localhost:8080/"
        },
        "id": "hVzfBPKAT-_n",
        "outputId": "4dfdfb40-3c95-43a9-ba2f-18ca34fe44f0"
      },
      "outputs": [
        {
          "name": "stdout",
          "output_type": "stream",
          "text": [
            "None\n"
          ]
        }
      ],
      "source": [
        "print(patterns.search(\"82\"))"
      ]
    },
    {
      "cell_type": "code",
      "execution_count": null,
      "metadata": {
        "colab": {
          "base_uri": "https://localhost:8080/"
        },
        "id": "0-Tj4_fqUBI6",
        "outputId": "79751e08-de58-4604-c426-c80ca03c469a"
      },
      "outputs": [
        {
          "name": "stdout",
          "output_type": "stream",
          "text": [
            "None\n"
          ]
        }
      ],
      "source": [
        "print(patterns.search(\"82.82\"))"
      ]
    },
    {
      "cell_type": "code",
      "execution_count": null,
      "metadata": {
        "colab": {
          "base_uri": "https://localhost:8080/"
        },
        "id": "HjxBd-pHaZeo",
        "outputId": "cb4897cf-44e9-4a98-9f3a-6a70a7db7d5e"
      },
      "outputs": [
        {
          "name": "stdout",
          "output_type": "stream",
          "text": [
            "None\n"
          ]
        }
      ],
      "source": [
        "print(patterns.search(\"82.2\"))"
      ]
    },
    {
      "cell_type": "code",
      "execution_count": null,
      "metadata": {
        "colab": {
          "base_uri": "https://localhost:8080/"
        },
        "id": "uoKCqw76ad-y",
        "outputId": "50895266-414a-4043-9a34-255105fa5f23"
      },
      "outputs": [
        {
          "name": "stdout",
          "output_type": "stream",
          "text": [
            "None\n"
          ]
        }
      ],
      "source": [
        "print(patterns.search(\".2\"))"
      ]
    },
    {
      "cell_type": "code",
      "execution_count": 4,
      "metadata": {
        "id": "4eiYKoOA5Msn"
      },
      "outputs": [],
      "source": [
        "pattern1 = re.compile(\"(http[s]{0,1}\\:\\/\\/{0,1})?(www\\.{0,1})?([a-zA-Z0-9\\-\\])+(\\.[a-z]{2,4}){1,2}(\\/)?([a-zA-Z0-9\\-\\\\*\\#\\/$]+)?\")"
      ]
    },
    {
      "cell_type": "code",
      "execution_count": 5,
      "metadata": {
        "colab": {
          "base_uri": "https://localhost:8080/"
        },
        "id": "zV_l3aI55Wdh",
        "outputId": "2f0abe10-ac1b-4f6d-a8b8-6297114c4049"
      },
      "outputs": [
        {
          "output_type": "stream",
          "name": "stdout",
          "text": [
            "<re.Match object; span=(0, 21), match='https://www.nitandhra'>\n"
          ]
        }
      ],
      "source": [
        "print(pattern1.search(\"https://www.nitandhra.ac.in/main/\"))"
      ]
    },
    {
      "cell_type": "code",
      "source": [
        "print(pattern1.search(\"https://www.nitandhra.ac.in/main\"))"
      ],
      "metadata": {
        "colab": {
          "base_uri": "https://localhost:8080/"
        },
        "id": "LuWSnd7Em4tr",
        "outputId": "d70b3544-b38e-401b-d1b8-0ef48e1d3566"
      },
      "execution_count": 6,
      "outputs": [
        {
          "output_type": "stream",
          "name": "stdout",
          "text": [
            "<re.Match object; span=(0, 21), match='https://www.nitandhra'>\n"
          ]
        }
      ]
    },
    {
      "cell_type": "code",
      "source": [
        "print(pattern1.search(\"https://www.nitandhra.coac.in/\"))"
      ],
      "metadata": {
        "colab": {
          "base_uri": "https://localhost:8080/"
        },
        "id": "8D3pgaxjm8pE",
        "outputId": "9944bf9c-f851-4522-f125-7599ef235b30"
      },
      "execution_count": 8,
      "outputs": [
        {
          "output_type": "stream",
          "name": "stdout",
          "text": [
            "<re.Match object; span=(0, 21), match='https://www.nitandhra'>\n"
          ]
        }
      ]
    },
    {
      "cell_type": "code",
      "source": [
        "print(pattern1.search(\"https://www.nitandhra.com\"))"
      ],
      "metadata": {
        "colab": {
          "base_uri": "https://localhost:8080/"
        },
        "id": "52cCUL0dnBjB",
        "outputId": "e8fa653f-fd83-447b-a06b-c9f8f1090a32"
      },
      "execution_count": 9,
      "outputs": [
        {
          "output_type": "stream",
          "name": "stdout",
          "text": [
            "<re.Match object; span=(0, 21), match='https://www.nitandhra'>\n"
          ]
        }
      ]
    },
    {
      "cell_type": "code",
      "source": [
        "print(pattern1.search(\"http://www.nitandhra.com/main/\"))"
      ],
      "metadata": {
        "colab": {
          "base_uri": "https://localhost:8080/"
        },
        "id": "-LN-ZOydnCEW",
        "outputId": "28d8fce0-b95e-448c-ae49-712d0ac2cd10"
      },
      "execution_count": 10,
      "outputs": [
        {
          "output_type": "stream",
          "name": "stdout",
          "text": [
            "<re.Match object; span=(0, 20), match='http://www.nitandhra'>\n"
          ]
        }
      ]
    },
    {
      "cell_type": "code",
      "source": [
        "print(pattern1.search(\"www.nitandhra.com/main/\"))"
      ],
      "metadata": {
        "colab": {
          "base_uri": "https://localhost:8080/"
        },
        "id": "AF_hJLhLnGe3",
        "outputId": "91426244-3547-444f-9bce-60b0422730ef"
      },
      "execution_count": null,
      "outputs": [
        {
          "output_type": "stream",
          "name": "stdout",
          "text": [
            "<re.Match object; span=(0, 13), match='www.nitandhra'>\n"
          ]
        }
      ]
    }
  ],
  "metadata": {
    "colab": {
      "provenance": [],
      "authorship_tag": "ABX9TyPH0ARDPMhyjfyeq27VcjhZ",
      "include_colab_link": true
    },
    "kernelspec": {
      "display_name": "Python 3",
      "name": "python3"
    },
    "language_info": {
      "name": "python"
    }
  },
  "nbformat": 4,
  "nbformat_minor": 0
}