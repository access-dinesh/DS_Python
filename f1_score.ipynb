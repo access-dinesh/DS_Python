{
  "cells": [
    {
      "cell_type": "markdown",
      "metadata": {
        "id": "view-in-github",
        "colab_type": "text"
      },
      "source": [
        "<a href=\"https://colab.research.google.com/github/access-dinesh/DS_Python/blob/main/f1_score.ipynb\" target=\"_parent\"><img src=\"https://colab.research.google.com/assets/colab-badge.svg\" alt=\"Open In Colab\"/></a>"
      ]
    },
    {
      "cell_type": "code",
      "execution_count": 1,
      "id": "innovative-adobe",
      "metadata": {
        "id": "innovative-adobe"
      },
      "outputs": [],
      "source": [
        "import pandas as pd"
      ]
    },
    {
      "cell_type": "code",
      "execution_count": 2,
      "id": "northern-universal",
      "metadata": {
        "id": "northern-universal"
      },
      "outputs": [],
      "source": [
        "from sklearn.metrics import f1_score\n",
        "from sklearn.metrics import classification_report\n",
        "from sklearn.metrics import confusion_matrix\n"
      ]
    },
    {
      "cell_type": "code",
      "execution_count": 3,
      "id": "material-cursor",
      "metadata": {
        "id": "material-cursor"
      },
      "outputs": [],
      "source": [
        "df= pd.read_csv(\"/content/test_mid_nlp.csv\")"
      ]
    },
    {
      "cell_type": "code",
      "execution_count": 5,
      "id": "mathematical-killing",
      "metadata": {
        "id": "mathematical-killing"
      },
      "outputs": [],
      "source": [
        "pred = df['pred'].tolist()"
      ]
    },
    {
      "cell_type": "code",
      "execution_count": 6,
      "id": "native-apple",
      "metadata": {
        "id": "native-apple"
      },
      "outputs": [],
      "source": [
        "ground = df['ground'].tolist()"
      ]
    },
    {
      "cell_type": "code",
      "execution_count": 7,
      "id": "constitutional-period",
      "metadata": {
        "colab": {
          "base_uri": "https://localhost:8080/"
        },
        "id": "constitutional-period",
        "outputId": "36c43f5b-99c1-4b72-b0f4-f4a4f8158809"
      },
      "outputs": [
        {
          "output_type": "execute_result",
          "data": {
            "text/plain": [
              "array([[188,   1,   2,   0,   5],\n",
              "       [  0, 177,   3,   0,  16],\n",
              "       [  0,   1, 186,   1,   8],\n",
              "       [  5,   2,   3, 186,   0],\n",
              "       [  1,  30,   4,   1, 160]])"
            ]
          },
          "metadata": {},
          "execution_count": 7
        }
      ],
      "source": [
        "confusion_matrix(ground, pred)"
      ]
    },
    {
      "cell_type": "code",
      "execution_count": 8,
      "id": "prompt-record",
      "metadata": {
        "colab": {
          "base_uri": "https://localhost:8080/"
        },
        "id": "prompt-record",
        "outputId": "fa23f815-61e8-4360-c40b-8ac2c18e58f8"
      },
      "outputs": [
        {
          "output_type": "stream",
          "name": "stdout",
          "text": [
            "              precision    recall  f1-score   support\n",
            "\n",
            "          c1       0.97      0.96      0.96       196\n",
            "          c2       0.84      0.90      0.87       196\n",
            "          c3       0.94      0.95      0.94       196\n",
            "          c4       0.99      0.95      0.97       196\n",
            "          c5       0.85      0.82      0.83       196\n",
            "\n",
            "    accuracy                           0.92       980\n",
            "   macro avg       0.92      0.92      0.92       980\n",
            "weighted avg       0.92      0.92      0.92       980\n",
            "\n"
          ]
        }
      ],
      "source": [
        "print(classification_report(ground, pred))"
      ]
    },
    {
      "cell_type": "code",
      "execution_count": 9,
      "id": "painful-messaging",
      "metadata": {
        "colab": {
          "base_uri": "https://localhost:8080/"
        },
        "id": "painful-messaging",
        "outputId": "cbc32039-567a-4346-d40c-08b990940554"
      },
      "outputs": [
        {
          "output_type": "execute_result",
          "data": {
            "text/plain": [
              "0.9155925403196976"
            ]
          },
          "metadata": {},
          "execution_count": 9
        }
      ],
      "source": [
        "f1_score(ground, pred, average='macro')"
      ]
    },
    {
      "cell_type": "code",
      "execution_count": 10,
      "id": "dress-visit",
      "metadata": {
        "colab": {
          "base_uri": "https://localhost:8080/"
        },
        "id": "dress-visit",
        "outputId": "fcbf137c-d8b8-4f54-c3fb-e2a4930aa240"
      },
      "outputs": [
        {
          "output_type": "execute_result",
          "data": {
            "text/plain": [
              "0.9153061224489796"
            ]
          },
          "metadata": {},
          "execution_count": 10
        }
      ],
      "source": [
        "f1_score(ground, pred, average='micro')"
      ]
    },
    {
      "cell_type": "code",
      "execution_count": 11,
      "id": "conditional-moderator",
      "metadata": {
        "colab": {
          "base_uri": "https://localhost:8080/"
        },
        "id": "conditional-moderator",
        "outputId": "5b7ce97f-0fc0-4fdf-e41b-60fbb6748341"
      },
      "outputs": [
        {
          "output_type": "execute_result",
          "data": {
            "text/plain": [
              "0.9155925403196976"
            ]
          },
          "metadata": {},
          "execution_count": 11
        }
      ],
      "source": [
        "f1_score(ground, pred, average='weighted')"
      ]
    }
  ],
  "metadata": {
    "kernelspec": {
      "display_name": "Python 3",
      "language": "python",
      "name": "python3"
    },
    "language_info": {
      "codemirror_mode": {
        "name": "ipython",
        "version": 3
      },
      "file_extension": ".py",
      "mimetype": "text/x-python",
      "name": "python",
      "nbconvert_exporter": "python",
      "pygments_lexer": "ipython3",
      "version": "3.8.5"
    },
    "colab": {
      "provenance": [],
      "include_colab_link": true
    }
  },
  "nbformat": 4,
  "nbformat_minor": 5
}