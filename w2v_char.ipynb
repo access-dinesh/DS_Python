{
  "nbformat": 4,
  "nbformat_minor": 0,
  "metadata": {
    "colab": {
      "provenance": [],
      "authorship_tag": "ABX9TyMut4hd4jlWpbRYlrbFkK9R",
      "include_colab_link": true
    },
    "kernelspec": {
      "name": "python3",
      "display_name": "Python 3"
    },
    "language_info": {
      "name": "python"
    }
  },
  "cells": [
    {
      "cell_type": "markdown",
      "metadata": {
        "id": "view-in-github",
        "colab_type": "text"
      },
      "source": [
        "<a href=\"https://colab.research.google.com/github/access-dinesh/DS_Python/blob/main/w2v_char.ipynb\" target=\"_parent\"><img src=\"https://colab.research.google.com/assets/colab-badge.svg\" alt=\"Open In Colab\"/></a>"
      ]
    },
    {
      "cell_type": "code",
      "source": [
        "import numpy as np\n",
        "import tensorflow as tf\n",
        "import pandas as pd"
      ],
      "metadata": {
        "id": "Q0mIDbtI1ZU8"
      },
      "execution_count": 6,
      "outputs": []
    },
    {
      "cell_type": "code",
      "source": [
        "headlines = pd.read_csv('/content/abcnews-date-text.csv')['headline_text']"
      ],
      "metadata": {
        "id": "rgANVZDu1b91"
      },
      "execution_count": 8,
      "outputs": []
    },
    {
      "cell_type": "code",
      "source": [
        "headlines"
      ],
      "metadata": {
        "colab": {
          "base_uri": "https://localhost:8080/"
        },
        "id": "CGA7F7TF46z9",
        "outputId": "4cfad1b7-54b3-4502-ed03-4b90610fcf69"
      },
      "execution_count": 9,
      "outputs": [
        {
          "output_type": "execute_result",
          "data": {
            "text/plain": [
              "0         aba decides against community broadcasting lic...\n",
              "1            act fire witnesses must be aware of defamation\n",
              "2            a g calls for infrastructure protection summit\n",
              "3                  air nz staff in aust strike for pay rise\n",
              "4             air nz strike to affect australian travellers\n",
              "                                ...                        \n",
              "170400                    vline under fire over late trains\n",
              "170401        wadeye education funding shortfall questioned\n",
              "170402               wallabies boost nts side to play samoa\n",
              "170403        water management seen as crucial to saleyards\n",
              "170404                             welfare group continues \n",
              "Name: headline_text, Length: 170405, dtype: object"
            ]
          },
          "metadata": {},
          "execution_count": 9
        }
      ]
    },
    {
      "cell_type": "code",
      "source": [
        "headlines[0]"
      ],
      "metadata": {
        "colab": {
          "base_uri": "https://localhost:8080/",
          "height": 35
        },
        "id": "GPT_IIac5BQZ",
        "outputId": "d29bdebc-a105-4790-b330-e23d455f715b"
      },
      "execution_count": 10,
      "outputs": [
        {
          "output_type": "execute_result",
          "data": {
            "text/plain": [
              "'aba decides against community broadcasting licence'"
            ],
            "application/vnd.google.colaboratory.intrinsic+json": {
              "type": "string"
            }
          },
          "metadata": {},
          "execution_count": 10
        }
      ]
    },
    {
      "cell_type": "code",
      "source": [
        "import itertools as it\n",
        "\n",
        "def sliding_window(txt):\n",
        "  for i in range(len(txt) - 1):\n",
        "    yield txt[i], txt[i + 1]\n",
        "\n",
        "window = list(it.chain(*[sliding_window(_) for _ in headlines[:10000]]))"
      ],
      "metadata": {
        "id": "BoNSsEHU5FRh"
      },
      "execution_count": 11,
      "outputs": []
    },
    {
      "cell_type": "code",
      "source": [
        "mapping = {c: i for i, c in enumerate(pd.DataFrame(window)[0].unique())}\n",
        "integers_in = np.array([mapping[w[0]] for w in window])\n",
        "integers_out = np.array([mapping[w[1]] for w in window]).reshape(-1, 1)"
      ],
      "metadata": {
        "id": "8SPuwiV-5IBD"
      },
      "execution_count": 12,
      "outputs": []
    },
    {
      "cell_type": "code",
      "source": [
        "integers_in.shape"
      ],
      "metadata": {
        "colab": {
          "base_uri": "https://localhost:8080/"
        },
        "id": "SggoPXGT5Mh5",
        "outputId": "9ca843c9-80db-440e-cd0f-69c957b24a60"
      },
      "execution_count": 13,
      "outputs": [
        {
          "output_type": "execute_result",
          "data": {
            "text/plain": [
              "(386880,)"
            ]
          },
          "metadata": {},
          "execution_count": 13
        }
      ]
    },
    {
      "cell_type": "code",
      "source": [
        "from tensorflow.keras.layers import Embedding, Dense, Flatten\n",
        "from tensorflow.keras.models import Sequential\n",
        "\n",
        "num_letters = len(mapping) # typically 36 -> 26 letters + 10 numbers\n",
        "\n",
        "# this one is so we might grab the embeddings\n",
        "model_emb = Sequential()\n",
        "embedding = Embedding(num_letters, 2, input_length=1)\n",
        "model_emb.add(embedding)\n",
        "output_array = model_emb.predict(integers_in)\n",
        "output_array.shape"
      ],
      "metadata": {
        "colab": {
          "base_uri": "https://localhost:8080/"
        },
        "id": "tuYm12HY5Qa4",
        "outputId": "6b413cf6-b778-4476-a8c0-8f57d0cab556"
      },
      "execution_count": 14,
      "outputs": [
        {
          "output_type": "stream",
          "name": "stdout",
          "text": [
            "12090/12090 [==============================] - 16s 1ms/step\n"
          ]
        },
        {
          "output_type": "execute_result",
          "data": {
            "text/plain": [
              "(386880, 1, 2)"
            ]
          },
          "metadata": {},
          "execution_count": 14
        }
      ]
    },
    {
      "cell_type": "code",
      "source": [
        "import matplotlib.pylab as plt\n",
        "\n",
        "idx_to_calc = list(mapping.values())\n",
        "idx_to_calc = np.array([idx_to_calc]).T\n",
        "\n",
        "translator = {v:k for k,v in mapping.items()}\n",
        "preds = model_emb.predict(idx_to_calc)\n",
        "\n",
        "plt.scatter(preds[:, 0, 0], preds[:, 0, 1], alpha=0)\n",
        "for i, idx in enumerate(idx_to_calc):\n",
        "  plt.text(preds[i, 0, 0], preds[i, 0, 1], translator[idx[0]])"
      ],
      "metadata": {
        "colab": {
          "base_uri": "https://localhost:8080/",
          "height": 447
        },
        "id": "p2VSQSAu5j-t",
        "outputId": "7d27f738-94ad-4485-f05d-063b2c8c5d36"
      },
      "execution_count": 15,
      "outputs": [
        {
          "output_type": "stream",
          "name": "stdout",
          "text": [
            "2/2 [==============================] - 0s 6ms/step\n"
          ]
        },
        {
          "output_type": "display_data",
          "data": {
            "text/plain": [
              "<Figure size 640x480 with 1 Axes>"
            ],
            "image/png": "[encoded data removed]"
          },
          "metadata": {}
        }
      ]
    },
    {
      "cell_type": "code",
      "source": [
        "from tensorflow.keras.optimizers import Adam\n",
        "\n",
        "# this one is so we might learn the mapping\n",
        "model_pred = Sequential()\n",
        "model_pred.add(embedding)\n",
        "model_pred.add(Flatten())\n",
        "model_pred.add(Dense(num_letters, activation=\"softmax\"))\n",
        "\n",
        "adam = Adam(learning_rate=0.001, beta_1=0.9, beta_2=0.999, amsgrad=False)\n",
        "\n",
        "model_pred.compile(adam, 'categorical_crossentropy', metrics=['accuracy'])\n",
        "\n",
        "output_array = model_pred.predict(integers_in)\n",
        "output_array.shape"
      ],
      "metadata": {
        "colab": {
          "base_uri": "https://localhost:8080/"
        },
        "id": "17EYq5oa5qoF",
        "outputId": "702fccbe-8c87-4a3a-992f-8f6b4a91d146"
      },
      "execution_count": 16,
      "outputs": [
        {
          "output_type": "stream",
          "name": "stdout",
          "text": [
            "12090/12090 [==============================] - 29s 2ms/step\n"
          ]
        },
        {
          "output_type": "execute_result",
          "data": {
            "text/plain": [
              "(386880, 37)"
            ]
          },
          "metadata": {},
          "execution_count": 16
        }
      ]
    },
    {
      "cell_type": "code",
      "source": [
        "from sklearn.preprocessing import OneHotEncoder\n",
        "\n",
        "to_predict = OneHotEncoder(sparse=False).fit_transform(integers_out)\n",
        "model_pred.fit(integers_in, to_predict, epochs=30, verbose=1)"
      ],
      "metadata": {
        "colab": {
          "base_uri": "https://localhost:8080/"
        },
        "id": "vE9TBJbT5vFX",
        "outputId": "ca064ff3-00a6-47a5-cea6-0a448963431e"
      },
      "execution_count": 17,
      "outputs": [
        {
          "output_type": "stream",
          "name": "stderr",
          "text": [
            "/usr/local/lib/python3.10/dist-packages/sklearn/preprocessing/_encoders.py:868: FutureWarning: `sparse` was renamed to `sparse_output` in version 1.2 and will be removed in 1.4. `sparse_output` is ignored unless you leave `sparse` to its default value.\n",
            "  warnings.warn(\n"
          ]
        },
        {
          "output_type": "stream",
          "name": "stdout",
          "text": [
            "Epoch 1/30\n",
            "12090/12090 [==============================] - 25s 2ms/step - loss: 2.7553 - accuracy: 0.1792\n",
            "Epoch 2/30\n",
            "12090/12090 [==============================] - 22s 2ms/step - loss: 2.6753 - accuracy: 0.1947\n",
            "Epoch 3/30\n",
            "12090/12090 [==============================] - 22s 2ms/step - loss: 2.6697 - accuracy: 0.1965\n",
            "Epoch 4/30\n",
            "12090/12090 [==============================] - 22s 2ms/step - loss: 2.6682 - accuracy: 0.1967\n",
            "Epoch 5/30\n",
            "12090/12090 [==============================] - 23s 2ms/step - loss: 2.6672 - accuracy: 0.1962\n",
            "Epoch 6/30\n",
            "12090/12090 [==============================] - 21s 2ms/step - loss: 2.6666 - accuracy: 0.1962\n",
            "Epoch 7/30\n",
            "12090/12090 [==============================] - 23s 2ms/step - loss: 2.6663 - accuracy: 0.1961\n",
            "Epoch 8/30\n",
            "12090/12090 [==============================] - 22s 2ms/step - loss: 2.6658 - accuracy: 0.1963\n",
            "Epoch 9/30\n",
            "12090/12090 [==============================] - 23s 2ms/step - loss: 2.6654 - accuracy: 0.1963\n",
            "Epoch 10/30\n",
            "12090/12090 [==============================] - 23s 2ms/step - loss: 2.6651 - accuracy: 0.1963\n",
            "Epoch 11/30\n",
            "12090/12090 [==============================] - 22s 2ms/step - loss: 2.6648 - accuracy: 0.1965\n",
            "Epoch 12/30\n",
            "12090/12090 [==============================] - 21s 2ms/step - loss: 2.6645 - accuracy: 0.1966\n",
            "Epoch 13/30\n",
            "12090/12090 [==============================] - 22s 2ms/step - loss: 2.6642 - accuracy: 0.1965\n",
            "Epoch 14/30\n",
            "12090/12090 [==============================] - 21s 2ms/step - loss: 2.6640 - accuracy: 0.1964\n",
            "Epoch 15/30\n",
            "12090/12090 [==============================] - 22s 2ms/step - loss: 2.6636 - accuracy: 0.1966\n",
            "Epoch 16/30\n",
            "12090/12090 [==============================] - 22s 2ms/step - loss: 2.6634 - accuracy: 0.1964\n",
            "Epoch 17/30\n",
            "12090/12090 [==============================] - 21s 2ms/step - loss: 2.6631 - accuracy: 0.1964\n",
            "Epoch 18/30\n",
            "12090/12090 [==============================] - 22s 2ms/step - loss: 2.6628 - accuracy: 0.1965\n",
            "Epoch 19/30\n",
            "12090/12090 [==============================] - 21s 2ms/step - loss: 2.6624 - accuracy: 0.1964\n",
            "Epoch 20/30\n",
            "12090/12090 [==============================] - 25s 2ms/step - loss: 2.6620 - accuracy: 0.1963\n",
            "Epoch 21/30\n",
            "12090/12090 [==============================] - 22s 2ms/step - loss: 2.6617 - accuracy: 0.1961\n",
            "Epoch 22/30\n",
            "12090/12090 [==============================] - 21s 2ms/step - loss: 2.6614 - accuracy: 0.1963\n",
            "Epoch 23/30\n",
            "12090/12090 [==============================] - 22s 2ms/step - loss: 2.6611 - accuracy: 0.1961\n",
            "Epoch 24/30\n",
            "12090/12090 [==============================] - 22s 2ms/step - loss: 2.6608 - accuracy: 0.1960\n",
            "Epoch 25/30\n",
            "12090/12090 [==============================] - 21s 2ms/step - loss: 2.6605 - accuracy: 0.1958\n",
            "Epoch 26/30\n",
            "12090/12090 [==============================] - 22s 2ms/step - loss: 2.6603 - accuracy: 0.1959\n",
            "Epoch 27/30\n",
            "12090/12090 [==============================] - 22s 2ms/step - loss: 2.6600 - accuracy: 0.1957\n",
            "Epoch 28/30\n",
            "12090/12090 [==============================] - 22s 2ms/step - loss: 2.6597 - accuracy: 0.1959\n",
            "Epoch 29/30\n",
            "12090/12090 [==============================] - 22s 2ms/step - loss: 2.6595 - accuracy: 0.1957\n",
            "Epoch 30/30\n",
            "12090/12090 [==============================] - 23s 2ms/step - loss: 2.6592 - accuracy: 0.1961\n"
          ]
        },
        {
          "output_type": "execute_result",
          "data": {
            "text/plain": [
              "<keras.src.callbacks.History at 0x77fbfe6fd300>"
            ]
          },
          "metadata": {},
          "execution_count": 17
        }
      ]
    },
    {
      "cell_type": "code",
      "source": [
        "preds = model_emb.predict(idx_to_calc)\n",
        "plt.scatter(preds[:, 0, 0], preds[:, 0, 1], alpha=0)\n",
        "for i, idx in enumerate(idx_to_calc):\n",
        "  plt.text(preds[i, 0, 0], preds[i, 0, 1], translator[idx[0]])"
      ],
      "metadata": {
        "colab": {
          "base_uri": "https://localhost:8080/",
          "height": 447
        },
        "id": "iMdFuW-T56uH",
        "outputId": "eea2ceb1-338d-485c-d20d-a06d96cd37a9"
      },
      "execution_count": 18,
      "outputs": [
        {
          "output_type": "stream",
          "name": "stdout",
          "text": [
            "2/2 [==============================] - 0s 5ms/step\n"
          ]
        },
        {
          "output_type": "display_data",
          "data": {
            "text/plain": [
              "<Figure size 640x480 with 1 Axes>"
            ],
            "image/png": "[encoded data removed]"
          },
          "metadata": {}
        }
      ]
    }
  ]
}