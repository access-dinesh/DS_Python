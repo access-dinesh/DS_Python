{
  "nbformat": 4,
  "nbformat_minor": 0,
  "metadata": {
    "colab": {
      "provenance": [],
      "authorship_tag": "ABX9TyOs1pOlfxgMIxntBwJAFHQT",
      "include_colab_link": true
    },
    "kernelspec": {
      "name": "python3",
      "display_name": "Python 3"
    },
    "language_info": {
      "name": "python"
    }
  },
  "cells": [
    {
      "cell_type": "markdown",
      "metadata": {
        "id": "view-in-github",
        "colab_type": "text"
      },
      "source": [
        "<a href=\"https://colab.research.google.com/github/access-dinesh/DS_Python/blob/main/Tensors_17022024.ipynb\" target=\"_parent\"><img src=\"https://colab.research.google.com/assets/colab-badge.svg\" alt=\"Open In Colab\"/></a>"
      ]
    },
    {
      "cell_type": "code",
      "execution_count": 1,
      "metadata": {
        "id": "PmQanLtGO1Nk"
      },
      "outputs": [],
      "source": [
        "import torch\n",
        "import numpy as np"
      ]
    },
    {
      "cell_type": "code",
      "source": [
        "mylist=[1,2,3,4,5]\n",
        "mylist"
      ],
      "metadata": {
        "colab": {
          "base_uri": "https://localhost:8080/"
        },
        "id": "y7I24BK1QOAp",
        "outputId": "d3e948ca-d33f-4392-99f8-0c4bb25ff549"
      },
      "execution_count": 9,
      "outputs": [
        {
          "output_type": "execute_result",
          "data": {
            "text/plain": [
              "[1, 2, 3, 4, 5]"
            ]
          },
          "metadata": {},
          "execution_count": 9
        }
      ]
    },
    {
      "cell_type": "code",
      "source": [
        "mylist1=[[1,2,3,4,5],[6,7,8,9,10]]\n",
        "mylist1"
      ],
      "metadata": {
        "colab": {
          "base_uri": "https://localhost:8080/"
        },
        "id": "BLym_FKFQwMQ",
        "outputId": "45596a1c-0e06-47da-baea-225612fa3e9f"
      },
      "execution_count": 10,
      "outputs": [
        {
          "output_type": "execute_result",
          "data": {
            "text/plain": [
              "[[1, 2, 3, 4, 5], [6, 7, 8, 9, 10]]"
            ]
          },
          "metadata": {},
          "execution_count": 10
        }
      ]
    },
    {
      "cell_type": "code",
      "source": [
        "np1 = np.random.rand(3)\n",
        "np1"
      ],
      "metadata": {
        "colab": {
          "base_uri": "https://localhost:8080/"
        },
        "id": "DXay1CrdQqbo",
        "outputId": "22490a8d-0bf3-4756-99bb-e5e00dccc5b7"
      },
      "execution_count": 22,
      "outputs": [
        {
          "output_type": "execute_result",
          "data": {
            "text/plain": [
              "array([0.22179066, 0.35119585, 0.83498248])"
            ]
          },
          "metadata": {},
          "execution_count": 22
        }
      ]
    },
    {
      "cell_type": "code",
      "source": [
        "np1.dtype"
      ],
      "metadata": {
        "colab": {
          "base_uri": "https://localhost:8080/"
        },
        "id": "IcMS88zYRt-3",
        "outputId": "463b3d15-7a92-4198-e69d-94fb58f91bb5"
      },
      "execution_count": 24,
      "outputs": [
        {
          "output_type": "execute_result",
          "data": {
            "text/plain": [
              "dtype('float64')"
            ]
          },
          "metadata": {},
          "execution_count": 24
        }
      ]
    },
    {
      "cell_type": "code",
      "source": [
        "np2 = np.random.rand(3,4)\n",
        "np2"
      ],
      "metadata": {
        "colab": {
          "base_uri": "https://localhost:8080/"
        },
        "id": "sZTHasbKRnCo",
        "outputId": "5a7d6675-3b96-4038-85a2-5133f1d49400"
      },
      "execution_count": 23,
      "outputs": [
        {
          "output_type": "execute_result",
          "data": {
            "text/plain": [
              "array([[0.78096274, 0.21336518, 0.27381313, 0.2955847 ],\n",
              "       [0.83601792, 0.30286541, 0.49207246, 0.98106477],\n",
              "       [0.22825855, 0.00807266, 0.27045832, 0.86662329]])"
            ]
          },
          "metadata": {},
          "execution_count": 23
        }
      ]
    },
    {
      "cell_type": "code",
      "source": [
        "np3 = np.random.rand(3,4,5)\n",
        "np3"
      ],
      "metadata": {
        "colab": {
          "base_uri": "https://localhost:8080/"
        },
        "id": "Og1EG_1wRsLo",
        "outputId": "d0caf35b-40cc-42e2-e404-26b6e06e7af8"
      },
      "execution_count": 25,
      "outputs": [
        {
          "output_type": "execute_result",
          "data": {
            "text/plain": [
              "array([[[0.04906607, 0.43605465, 0.93969354, 0.00671774, 0.36062098],\n",
              "        [0.10657189, 0.01329479, 0.08071855, 0.29871877, 0.37888505],\n",
              "        [0.22752546, 0.73462369, 0.00456284, 0.07267468, 0.34931606],\n",
              "        [0.52103315, 0.28369512, 0.59588645, 0.54884391, 0.13439222]],\n",
              "\n",
              "       [[0.49854457, 0.76986296, 0.00659152, 0.31003727, 0.25798367],\n",
              "        [0.34755749, 0.49080699, 0.73574473, 0.44714914, 0.89857894],\n",
              "        [0.61503273, 0.45359341, 0.08015253, 0.08223578, 0.80194662],\n",
              "        [0.21449458, 0.15493051, 0.72357491, 0.63898109, 0.63332286]],\n",
              "\n",
              "       [[0.83339973, 0.67898328, 0.92689935, 0.48471043, 0.52305523],\n",
              "        [0.09510595, 0.28368506, 0.02220803, 0.12245197, 0.23326632],\n",
              "        [0.18780676, 0.77316971, 0.93109192, 0.68905261, 0.89202086],\n",
              "        [0.08180276, 0.88192092, 0.38291911, 0.54498059, 0.68765544]]])"
            ]
          },
          "metadata": {},
          "execution_count": 25
        }
      ]
    },
    {
      "cell_type": "code",
      "source": [
        "tensor1 = torch.randn(3)\n",
        "tensor1"
      ],
      "metadata": {
        "colab": {
          "base_uri": "https://localhost:8080/"
        },
        "id": "EFgl0l6iQuwi",
        "outputId": "a7144c3f-3dfc-4b34-bfe6-6369af683550"
      },
      "execution_count": 27,
      "outputs": [
        {
          "output_type": "execute_result",
          "data": {
            "text/plain": [
              "tensor([-1.3333,  1.2562,  0.1860])"
            ]
          },
          "metadata": {},
          "execution_count": 27
        }
      ]
    },
    {
      "cell_type": "code",
      "source": [
        "tensor1.dtype"
      ],
      "metadata": {
        "colab": {
          "base_uri": "https://localhost:8080/"
        },
        "id": "r1ZODnxcSJ_I",
        "outputId": "4d5333aa-156f-47ff-d63b-f81a3226e410"
      },
      "execution_count": 28,
      "outputs": [
        {
          "output_type": "execute_result",
          "data": {
            "text/plain": [
              "torch.float32"
            ]
          },
          "metadata": {},
          "execution_count": 28
        }
      ]
    },
    {
      "cell_type": "code",
      "source": [
        "tensor2 = torch.randn(3,4)\n",
        "tensor2"
      ],
      "metadata": {
        "colab": {
          "base_uri": "https://localhost:8080/"
        },
        "id": "XqO26rprSQnv",
        "outputId": "d93fbc71-cbf1-46bb-a408-3dd53999473e"
      },
      "execution_count": 29,
      "outputs": [
        {
          "output_type": "execute_result",
          "data": {
            "text/plain": [
              "tensor([[ 0.2524, -0.4779,  0.8547, -0.6926],\n",
              "        [-1.5194,  0.1643, -0.7216,  0.3639],\n",
              "        [-0.6160, -0.7803,  0.3334,  1.0757]])"
            ]
          },
          "metadata": {},
          "execution_count": 29
        }
      ]
    },
    {
      "cell_type": "code",
      "source": [
        "tensor3=torch.zeros(3,4)\n",
        "tensor3"
      ],
      "metadata": {
        "colab": {
          "base_uri": "https://localhost:8080/"
        },
        "id": "O397jJrOSZ-X",
        "outputId": "3dbe7df3-69a6-4f8e-fbf8-dc194dbbfbb3"
      },
      "execution_count": 30,
      "outputs": [
        {
          "output_type": "execute_result",
          "data": {
            "text/plain": [
              "tensor([[0., 0., 0., 0.],\n",
              "        [0., 0., 0., 0.],\n",
              "        [0., 0., 0., 0.]])"
            ]
          },
          "metadata": {},
          "execution_count": 30
        }
      ]
    },
    {
      "cell_type": "code",
      "source": [
        "tensor4 = torch.tensor(np3)\n",
        "tensor4"
      ],
      "metadata": {
        "colab": {
          "base_uri": "https://localhost:8080/"
        },
        "id": "W9QRjP7FStn1",
        "outputId": "20396757-d5c2-4f30-94ac-465542f530f4"
      },
      "execution_count": 32,
      "outputs": [
        {
          "output_type": "execute_result",
          "data": {
            "text/plain": [
              "tensor([[[0.0491, 0.4361, 0.9397, 0.0067, 0.3606],\n",
              "         [0.1066, 0.0133, 0.0807, 0.2987, 0.3789],\n",
              "         [0.2275, 0.7346, 0.0046, 0.0727, 0.3493],\n",
              "         [0.5210, 0.2837, 0.5959, 0.5488, 0.1344]],\n",
              "\n",
              "        [[0.4985, 0.7699, 0.0066, 0.3100, 0.2580],\n",
              "         [0.3476, 0.4908, 0.7357, 0.4471, 0.8986],\n",
              "         [0.6150, 0.4536, 0.0802, 0.0822, 0.8019],\n",
              "         [0.2145, 0.1549, 0.7236, 0.6390, 0.6333]],\n",
              "\n",
              "        [[0.8334, 0.6790, 0.9269, 0.4847, 0.5231],\n",
              "         [0.0951, 0.2837, 0.0222, 0.1225, 0.2333],\n",
              "         [0.1878, 0.7732, 0.9311, 0.6891, 0.8920],\n",
              "         [0.0818, 0.8819, 0.3829, 0.5450, 0.6877]]], dtype=torch.float64)"
            ]
          },
          "metadata": {},
          "execution_count": 32
        }
      ]
    },
    {
      "cell_type": "code",
      "source": [
        "tensor4.dtype"
      ],
      "metadata": {
        "colab": {
          "base_uri": "https://localhost:8080/"
        },
        "id": "F-AxnOWbSzrv",
        "outputId": "670a0036-8537-4bed-f698-0999e1ee1224"
      },
      "execution_count": 33,
      "outputs": [
        {
          "output_type": "execute_result",
          "data": {
            "text/plain": [
              "torch.float64"
            ]
          },
          "metadata": {},
          "execution_count": 33
        }
      ]
    },
    {
      "cell_type": "code",
      "source": [],
      "metadata": {
        "id": "Xu2OjmeNS7QX"
      },
      "execution_count": null,
      "outputs": []
    }
  ]
}